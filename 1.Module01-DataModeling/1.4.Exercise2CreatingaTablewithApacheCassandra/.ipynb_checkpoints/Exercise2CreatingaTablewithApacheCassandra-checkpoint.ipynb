{
 "cells": [
  {
   "cell_type": "markdown",
   "metadata": {},
   "source": [
    "# L1 Exercise 2: Creating a Table with Apache Cassandra\n",
    "<img src=\"./cassandralogo.png\">"
   ]
  },
  {
   "cell_type": "markdown",
   "metadata": {},
   "source": [
    "### Walk through the basics of Apache Cassandra. Complete the following tasks:<li> Create a table in Apache Cassandra, <li> Insert rows of data,<li> Run a simple SQL query to validate the information. <br>\n",
    "`#####` denotes where the code needs to be completed.\n",
    "    \n",
    "Note: __Do not__ click the blue Preview button in the lower taskbar"
   ]
  },
  {
   "cell_type": "code",
   "execution_count": 3,
   "metadata": {},
   "outputs": [
    {
     "name": "stdout",
     "output_type": "stream",
     "text": [
      "Collecting cassandra-driver\n",
      "  Downloading cassandra-driver-3.25.0.tar.gz (289 kB)\n",
      "     ---------------------------------------- 0.0/290.0 kB ? eta -:--:--\n",
      "     ---- ---------------------------------- 30.7/290.0 kB 1.3 MB/s eta 0:00:01\n",
      "     ----- ------------------------------- 41.0/290.0 kB 653.6 kB/s eta 0:00:01\n",
      "     ------------- ---------------------- 112.6/290.0 kB 726.2 kB/s eta 0:00:01\n",
      "     ------------------- ---------------- 153.6/290.0 kB 762.6 kB/s eta 0:00:01\n",
      "     --------------------- -------------- 174.1/290.0 kB 803.1 kB/s eta 0:00:01\n",
      "     -------------------------------------  286.7/290.0 kB 1.0 MB/s eta 0:00:01\n",
      "     ------------------------------------ 290.0/290.0 kB 992.0 kB/s eta 0:00:00\n",
      "  Preparing metadata (setup.py): started\n",
      "  Preparing metadata (setup.py): finished with status 'done'\n",
      "Requirement already satisfied: six>=1.9 in c:\\users\\ahmedpro\\appdata\\local\\programs\\python\\python310\\lib\\site-packages (from cassandra-driver) (1.16.0)\n",
      "Collecting geomet<0.3,>=0.1\n",
      "  Downloading geomet-0.2.1.post1-py3-none-any.whl (18 kB)\n",
      "Collecting click\n",
      "  Using cached click-8.1.3-py3-none-any.whl (96 kB)\n",
      "Requirement already satisfied: colorama in c:\\users\\ahmedpro\\appdata\\local\\programs\\python\\python310\\lib\\site-packages (from click->geomet<0.3,>=0.1->cassandra-driver) (0.4.6)\n",
      "Installing collected packages: click, geomet, cassandra-driver\n",
      "  Running setup.py install for cassandra-driver: started\n",
      "  Running setup.py install for cassandra-driver: finished with status 'done'\n",
      "Successfully installed cassandra-driver-3.25.0 click-8.1.3 geomet-0.2.1.post1\n"
     ]
    },
    {
     "name": "stderr",
     "output_type": "stream",
     "text": [
      "  DEPRECATION: cassandra-driver is being installed using the legacy 'setup.py install' method, because it does not have a 'pyproject.toml' and the 'wheel' package is not installed. pip 23.1 will enforce this behaviour change. A possible replacement is to enable the '--use-pep517' option. Discussion can be found at https://github.com/pypa/pip/issues/8559\n"
     ]
    },
    {
     "name": "stdout",
     "output_type": "stream",
     "text": [
      "Collecting cassandra-driver\n",
      "  Using cached cassandra-driver-3.25.0.tar.gz (289 kB)\n",
      "  Preparing metadata (setup.py): started\n",
      "  Preparing metadata (setup.py): finished with status 'done'\n",
      "Requirement already satisfied: six>=1.9 in c:\\users\\ahmedpro\\appdata\\local\\programs\\python\\python310\\lib\\site-packages (from cassandra-driver) (1.16.0)\n",
      "Requirement already satisfied: geomet<0.3,>=0.1 in c:\\users\\ahmedpro\\appdata\\local\\programs\\python\\python310\\lib\\site-packages (from cassandra-driver) (0.2.1.post1)\n",
      "Requirement already satisfied: click in c:\\users\\ahmedpro\\appdata\\local\\programs\\python\\python310\\lib\\site-packages (from geomet<0.3,>=0.1->cassandra-driver) (8.1.3)\n",
      "Requirement already satisfied: colorama in c:\\users\\ahmedpro\\appdata\\local\\programs\\python\\python310\\lib\\site-packages (from click->geomet<0.3,>=0.1->cassandra-driver) (0.4.6)\n",
      "Installing collected packages: cassandra-driver\n",
      "  Running setup.py install for cassandra-driver: started\n",
      "  Running setup.py install for cassandra-driver: finished with status 'done'\n",
      "Successfully installed cassandra-driver-3.25.0\n"
     ]
    },
    {
     "name": "stderr",
     "output_type": "stream",
     "text": [
      "  DEPRECATION: cassandra-driver is being installed using the legacy 'setup.py install' method, because it does not have a 'pyproject.toml' and the 'wheel' package is not installed. pip 23.1 will enforce this behaviour change. A possible replacement is to enable the '--use-pep517' option. Discussion can be found at https://github.com/pypa/pip/issues/8559\n"
     ]
    }
   ],
   "source": [
    "!pip install cassandra-driver"
   ]
  },
  {
   "cell_type": "markdown",
   "metadata": {},
   "source": [
    "#### Import Apache Cassandra python package"
   ]
  },
  {
   "cell_type": "code",
   "execution_count": 1,
   "metadata": {},
   "outputs": [],
   "source": [
    "import cassandra\n",
    "from cassandra.cluster import Cluster"
   ]
  },
  {
   "cell_type": "markdown",
   "metadata": {},
   "source": [
    "### Create a connection to the database\n",
    "If you use cassandra in local machine, run it in cmd by \"cassandra -f\""
   ]
  },
  {
   "cell_type": "code",
   "execution_count": 3,
   "metadata": {},
   "outputs": [],
   "source": [
    "try: \n",
    "    cluster = Cluster(['127.0.0.1']) #If you have a locally installed Apache Cassandra instance\n",
    "    session = cluster.connect()\n",
    "except Exception as e:\n",
    "    print(e)\n",
    " "
   ]
  },
  {
   "cell_type": "markdown",
   "metadata": {},
   "source": [
    "### TO-DO: Create a keyspace to do the work in "
   ]
  },
  {
   "cell_type": "code",
   "execution_count": 4,
   "metadata": {},
   "outputs": [],
   "source": [
    "## TO-DO: Create the keyspace\n",
    "try:\n",
    "    session.execute(\"\"\"\n",
    "    CREATE KEYSPACE IF NOT EXISTS music_library_1 \n",
    "    WITH REPLICATION = \n",
    "    { 'class' : 'SimpleStrategy', 'replication_factor' : 1 }\"\"\"\n",
    ")\n",
    "\n",
    "except Exception as e:\n",
    "    print(e)"
   ]
  },
  {
   "cell_type": "markdown",
   "metadata": {},
   "source": [
    "### TO-DO: Connect to the Keyspace"
   ]
  },
  {
   "cell_type": "code",
   "execution_count": 5,
   "metadata": {},
   "outputs": [],
   "source": [
    "## To-Do: Add in the keyspace you created\n",
    "try:\n",
    "    session.set_keyspace('music_library_1')\n",
    "except Exception as e:\n",
    "    print(e)"
   ]
  },
  {
   "cell_type": "markdown",
   "metadata": {},
   "source": [
    "### Create a Song Library that contains a list of songs, including the song name, artist name, year, album it was from, and if it was a single. \n",
    "\n",
    "`song_title\n",
    "artist_name\n",
    "year\n",
    "album_name\n",
    "single`"
   ]
  },
  {
   "cell_type": "markdown",
   "metadata": {},
   "source": [
    "### TO-DO: You need to create a table to be able to run the following query: \n",
    "`select * from songs WHERE year=1970 AND artist_name=\"The Beatles\"`"
   ]
  },
  {
   "cell_type": "code",
   "execution_count": 6,
   "metadata": {},
   "outputs": [],
   "source": [
    "## TO-DO: Complete the query below\n",
    "query = \"CREATE TABLE IF NOT EXISTS music_library_table_1 \"\n",
    "query = query + \"(song_title text, artist_name text, year int, album_name text, single Boolean, PRIMARY KEY (year, artist_name))\"\n",
    "try:\n",
    "    session.execute(query)\n",
    "except Exception as e:\n",
    "    print(e)\n"
   ]
  },
  {
   "cell_type": "markdown",
   "metadata": {},
   "source": [
    "### TO-DO: Insert the following two rows in your table\n",
    "`First Row:  \"Across The Universe\", \"The Beatles\", \"1970\", \"False\", \"Let It Be\"`\n",
    "\n",
    "`Second Row: \"The Beatles\", \"Think For Yourself\", \"False\", \"1965\", \"Rubber Soul\"`"
   ]
  },
  {
   "cell_type": "code",
   "execution_count": 7,
   "metadata": {},
   "outputs": [],
   "source": [
    "## Add in query and then run the insert statement\n",
    "query = \"INSERT INTO music_library_table_1 (song_title, artist_name, year, album_name, single)\" \n",
    "query = query + \" VALUES (%s, %s, %s, %s, %s)\"\n",
    "\n",
    "try:\n",
    "    session.execute(query, (\"Across The Universe\", \"The Beatles\", 1970, \"Let It Be\", False))\n",
    "except Exception as e:\n",
    "    print(e)\n",
    "    \n",
    "try:\n",
    "    session.execute(query, (\"Think For Yourself\", \"The Beatles\", 1965, \"Rubber Soul\", False))\n",
    "except Exception as e:\n",
    "    print(e)"
   ]
  },
  {
   "cell_type": "markdown",
   "metadata": {},
   "source": [
    "### TO-DO: Validate your data was inserted into the table."
   ]
  },
  {
   "cell_type": "code",
   "execution_count": 8,
   "metadata": {
    "scrolled": true
   },
   "outputs": [
    {
     "name": "stdout",
     "output_type": "stream",
     "text": [
      "1965 Rubber Soul The Beatles\n",
      "1970 Let It Be The Beatles\n"
     ]
    }
   ],
   "source": [
    "## TO-DO: Complete and then run the select statement to validate the data was inserted into the table\n",
    "query = 'SELECT * FROM music_library_table_1'\n",
    "try:\n",
    "    rows = session.execute(query)\n",
    "except Exception as e:\n",
    "    print(e)\n",
    "    \n",
    "for row in rows:\n",
    "    print (row.year, row.album_name, row.artist_name)"
   ]
  },
  {
   "cell_type": "markdown",
   "metadata": {},
   "source": [
    "### TO-DO: Validate the Data Model with the original query.\n",
    "\n",
    "`select * from songs WHERE YEAR=1970 AND artist_name=\"The Beatles\"`"
   ]
  },
  {
   "cell_type": "code",
   "execution_count": 9,
   "metadata": {},
   "outputs": [
    {
     "name": "stdout",
     "output_type": "stream",
     "text": [
      "1970 Let It Be The Beatles\n"
     ]
    }
   ],
   "source": [
    "##TO-DO: Complete the select statement to run the query \n",
    "query = \"SELECT * from music_library_table_1 where YEAR=1970 and artist_name = 'The Beatles'\"\n",
    "try:\n",
    "    rows = session.execute(query)\n",
    "except Exception as e:\n",
    "    print(e)\n",
    "    \n",
    "for row in rows:\n",
    "    print (row.year, row.album_name, row.artist_name)"
   ]
  },
  {
   "cell_type": "markdown",
   "metadata": {},
   "source": [
    "### And Finally close the session and cluster connection"
   ]
  },
  {
   "cell_type": "code",
   "execution_count": 10,
   "metadata": {},
   "outputs": [],
   "source": [
    "session.shutdown()\n",
    "cluster.shutdown()"
   ]
  },
  {
   "cell_type": "code",
   "execution_count": null,
   "metadata": {},
   "outputs": [],
   "source": []
  }
 ],
 "metadata": {
  "kernelspec": {
   "display_name": "Python 3 (ipykernel)",
   "language": "python",
   "name": "python3"
  },
  "language_info": {
   "codemirror_mode": {
    "name": "ipython",
    "version": 3
   },
   "file_extension": ".py",
   "mimetype": "text/x-python",
   "name": "python",
   "nbconvert_exporter": "python",
   "pygments_lexer": "ipython3",
   "version": "3.10.2"
  }
 },
 "nbformat": 4,
 "nbformat_minor": 2
}
